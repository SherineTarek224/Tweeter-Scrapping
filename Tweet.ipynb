{
 "cells": [
  {
   "cell_type": "code",
   "execution_count": 1,
   "id": "2c47546b-b8b2-4372-8831-2250d989c66c",
   "metadata": {},
   "outputs": [],
   "source": [
    "import csv"
   ]
  },
  {
   "cell_type": "code",
   "execution_count": 2,
   "id": "807c4e7c-07a0-41eb-93db-53fb1bcf58be",
   "metadata": {},
   "outputs": [],
   "source": [
    "from getpass import getpass"
   ]
  },
  {
   "cell_type": "code",
   "execution_count": 3,
   "id": "211993d5-ce8b-4e1f-92b9-8bc47401012e",
   "metadata": {},
   "outputs": [],
   "source": [
    "from time import sleep"
   ]
  },
  {
   "cell_type": "code",
   "execution_count": null,
   "id": "3286ffeb-a07a-4cf4-9c07-8584964cbb43",
   "metadata": {},
   "outputs": [],
   "source": [
    "!pip uninstall selenium"
   ]
  },
  {
   "cell_type": "code",
   "execution_count": 6,
   "id": "2d5fb57c-039f-401e-a614-3674d437ad4c",
   "metadata": {},
   "outputs": [],
   "source": [
    "from selenium.webdriver.common.keys import Keys"
   ]
  },
  {
   "cell_type": "code",
   "execution_count": 7,
   "id": "eae98aa7-960f-4792-90fd-1d1bc793caea",
   "metadata": {},
   "outputs": [],
   "source": [
    "from selenium.common.exceptions import NoSuchElementException\n"
   ]
  },
  {
   "cell_type": "code",
   "execution_count": 8,
   "id": "4ae67772-d7fb-4624-9647-36d5ce255b4a",
   "metadata": {},
   "outputs": [],
   "source": [
    "from selenium import webdriver\n",
    "from selenium.webdriver.common.by import By"
   ]
  },
  {
   "cell_type": "code",
   "execution_count": 11,
   "id": "84957b74-0ac9-4e29-bd85-785185a3f313",
   "metadata": {},
   "outputs": [
    {
     "name": "stdout",
     "output_type": "stream",
     "text": [
      "Name: selenium\n",
      "Version: 4.19.0\n",
      "Summary: \n",
      "Home-page: https://www.selenium.dev\n",
      "Author: \n",
      "Author-email: \n",
      "License: Apache 2.0\n",
      "Location: F:\\anaconda\\envs\\tweet\\Lib\\site-packages\n",
      "Requires: certifi, trio, trio-websocket, typing_extensions, urllib3\n",
      "Required-by: \n"
     ]
    }
   ],
   "source": [
    "!pip show selenium"
   ]
  },
  {
   "cell_type": "code",
   "execution_count": 12,
   "id": "9b446cca-cd99-43fa-a12e-d4a0aed02650",
   "metadata": {},
   "outputs": [
    {
     "ename": "TypeError",
     "evalue": "WebDriver.__init__() got an unexpected keyword argument 'executable_path'",
     "output_type": "error",
     "traceback": [
      "\u001b[1;31m---------------------------------------------------------------------------\u001b[0m",
      "\u001b[1;31mTypeError\u001b[0m                                 Traceback (most recent call last)",
      "Cell \u001b[1;32mIn[12], line 2\u001b[0m\n\u001b[0;32m      1\u001b[0m driver_path \u001b[38;5;241m=\u001b[39m \u001b[38;5;124mr\u001b[39m\u001b[38;5;124m'\u001b[39m\u001b[38;5;124mF:\u001b[39m\u001b[38;5;124m\\\u001b[39m\u001b[38;5;124mMedgeWebDriver\u001b[39m\u001b[38;5;124m\\\u001b[39m\u001b[38;5;124mmsedgedriver.exe\u001b[39m\u001b[38;5;124m'\u001b[39m\n\u001b[1;32m----> 2\u001b[0m driver \u001b[38;5;241m=\u001b[39m webdriver\u001b[38;5;241m.\u001b[39mEdge(executable_path\u001b[38;5;241m=\u001b[39mdriver_path)\n",
      "\u001b[1;31mTypeError\u001b[0m: WebDriver.__init__() got an unexpected keyword argument 'executable_path'"
     ]
    }
   ],
   "source": [
    "\n",
    "driver_path = r'F:\\MedgeWebDriver\\msedgedriver.exe'\n",
    "driver = webdriver.Edge(executable_path=driver_path)\n",
    "\n"
   ]
  },
  {
   "cell_type": "code",
   "execution_count": 366,
   "id": "abab3585-7dad-4052-8a7d-c8d7d2b3dd66",
   "metadata": {},
   "outputs": [],
   "source": [
    "driver.get('https://twitter.com/login')"
   ]
  },
  {
   "cell_type": "code",
   "execution_count": 367,
   "id": "55d01bc5-17b5-4cd4-8e93-35f14ec35b61",
   "metadata": {},
   "outputs": [],
   "source": [
    "user_name=driver.find_element(by=By.NAME,value=\"text\")"
   ]
  },
  {
   "cell_type": "code",
   "execution_count": 368,
   "id": "39180175-a041-4386-918c-af978cbcc732",
   "metadata": {},
   "outputs": [],
   "source": [
    "user_name.send_keys('Sherine20200')"
   ]
  },
  {
   "cell_type": "code",
   "execution_count": 369,
   "id": "2d9cbff5-22b5-4cf0-998b-7d7725085f24",
   "metadata": {},
   "outputs": [],
   "source": [
    "user_name.send_keys(Keys.RETURN)"
   ]
  },
  {
   "cell_type": "code",
   "execution_count": 370,
   "id": "014897fd-d3e8-4aba-8670-30af829fa7c7",
   "metadata": {},
   "outputs": [
    {
     "name": "stdin",
     "output_type": "stream",
     "text": [
      " ········\n"
     ]
    }
   ],
   "source": [
    "my_pass=getpass()"
   ]
  },
  {
   "cell_type": "code",
   "execution_count": 371,
   "id": "bada73e6-ce99-49e2-8e58-de662f82dea2",
   "metadata": {},
   "outputs": [],
   "source": [
    "password = driver.find_element_by_name(\"password\")\n",
    "password.send_keys(my_pass)\n"
   ]
  },
  {
   "cell_type": "code",
   "execution_count": 372,
   "id": "6cf65ccf-f228-4984-9980-823e6c115a86",
   "metadata": {},
   "outputs": [],
   "source": [
    "password.send_keys(Keys.RETURN)"
   ]
  },
  {
   "cell_type": "code",
   "execution_count": 373,
   "id": "17b9656e-6aa0-4bc2-a7e9-64a18ff31630",
   "metadata": {},
   "outputs": [],
   "source": [
    "search_input = driver.find_element_by_css_selector(\"input[aria-label='Search query']\")\n"
   ]
  },
  {
   "cell_type": "code",
   "execution_count": 374,
   "id": "ecd8ed22-3b5e-4af1-993e-e9bc7e2cbb58",
   "metadata": {},
   "outputs": [],
   "source": [
    "search_input.send_keys('#polynote')"
   ]
  },
  {
   "cell_type": "code",
   "execution_count": 375,
   "id": "71f0abe5-aed7-43aa-8c29-ad4365aa4dd4",
   "metadata": {},
   "outputs": [],
   "source": [
    "search_input.send_keys(Keys.RETURN)"
   ]
  },
  {
   "cell_type": "code",
   "execution_count": 376,
   "id": "053681f9-90ea-469a-bf6e-8cecd0cfecf3",
   "metadata": {},
   "outputs": [],
   "source": [
    "element=driver.find_element_by_link_text(\"Latest\").click()\n"
   ]
  },
  {
   "cell_type": "code",
   "execution_count": 377,
   "id": "b907cdb2-b357-44f1-b2bf-ee2b8a999669",
   "metadata": {},
   "outputs": [],
   "source": [
    "tweets = driver.find_elements_by_xpath('//div[@data-testid=\"cellInnerDiv\"]')\n"
   ]
  },
  {
   "cell_type": "code",
   "execution_count": 378,
   "id": "08d20cc4-6bbe-4c21-b48b-7230e947ea03",
   "metadata": {},
   "outputs": [],
   "source": [
    "tweet=tweets[0]"
   ]
  },
  {
   "cell_type": "code",
   "execution_count": 379,
   "id": "6ff2c8a9-1253-4ff6-bc4e-6e363c932b1a",
   "metadata": {},
   "outputs": [
    {
     "data": {
      "text/plain": [
       "'Nick Vintila'"
      ]
     },
     "execution_count": 379,
     "metadata": {},
     "output_type": "execute_result"
    }
   ],
   "source": [
    "##username\n",
    "tweet.find_element_by_xpath('.//span').text"
   ]
  },
  {
   "cell_type": "code",
   "execution_count": 380,
   "id": "4a7570ae-6fba-4d7f-8d3b-e17b1924132c",
   "metadata": {},
   "outputs": [
    {
     "data": {
      "text/plain": [
       "'@semanticbeeng'"
      ]
     },
     "execution_count": 380,
     "metadata": {},
     "output_type": "execute_result"
    }
   ],
   "source": [
    "##twitter handle\n",
    "tweet.find_element_by_xpath('//span[contains(text(),\"@\")]').text"
   ]
  },
  {
   "cell_type": "code",
   "execution_count": 381,
   "id": "a372d7cd-2953-4e4d-954b-6bb19b3f4ab8",
   "metadata": {},
   "outputs": [
    {
     "data": {
      "text/plain": [
       "'2021-06-25T16:42:04.000Z'"
      ]
     },
     "execution_count": 381,
     "metadata": {},
     "output_type": "execute_result"
    }
   ],
   "source": [
    "##postdate\n",
    "tweet.find_element_by_xpath('.//time').get_attribute('datetime')"
   ]
  },
  {
   "cell_type": "code",
   "execution_count": 382,
   "id": "a1313345-4d66-41cb-891d-e1083d48a6ac",
   "metadata": {},
   "outputs": [
    {
     "data": {
      "text/plain": [
       "'Replying to \\n@fanf42\\n @jeremyrsmith\\n and \\n@IndigJonathan#Polynote is very nice in every way!\\n\\nAny plans for an actual roadmap ?\\nYearning for #k8s support like in Zeppelin, for example.'"
      ]
     },
     "execution_count": 382,
     "metadata": {},
     "output_type": "execute_result"
    }
   ],
   "source": [
    "comment=tweet.find_element_by_xpath('.//div[2]/div[2]/div[2]').text\n",
    "responding=tweet.find_element_by_xpath('.//div[2]/div[2]/div[3]').text\n",
    "comment+responding"
   ]
  },
  {
   "cell_type": "code",
   "execution_count": 383,
   "id": "f6a66d35-9286-4393-9886-993f8bf5d18b",
   "metadata": {},
   "outputs": [
    {
     "data": {
      "text/plain": [
       "'1'"
      ]
     },
     "execution_count": 383,
     "metadata": {},
     "output_type": "execute_result"
    }
   ],
   "source": [
    "##reply count\n",
    "tweet.find_element_by_xpath('.//div[@data-testid=\"reply\"]').text"
   ]
  },
  {
   "cell_type": "code",
   "execution_count": 384,
   "id": "04a3bb30-df76-41a4-8104-fd79eba0a6f4",
   "metadata": {},
   "outputs": [
    {
     "data": {
      "text/plain": [
       "''"
      ]
     },
     "execution_count": 384,
     "metadata": {},
     "output_type": "execute_result"
    }
   ],
   "source": [
    "##retweet count\n",
    "tweet.find_element_by_xpath('.//div[@data-testid=\"retweet\"]').text"
   ]
  },
  {
   "cell_type": "code",
   "execution_count": 385,
   "id": "97aa4d8b-2989-4186-b5fa-1d4edbfd1a4b",
   "metadata": {},
   "outputs": [
    {
     "data": {
      "text/plain": [
       "'2'"
      ]
     },
     "execution_count": 385,
     "metadata": {},
     "output_type": "execute_result"
    }
   ],
   "source": [
    "##like count\n",
    "tweet.find_element_by_xpath('.//div[@data-testid=\"like\"]').text"
   ]
  },
  {
   "cell_type": "code",
   "execution_count": 3,
   "id": "36a87235-a513-49d5-8282-be88a2b6dd0b",
   "metadata": {},
   "outputs": [],
   "source": [
    "##Extract data from tweet\n",
    "def get_tweet_data(tweet):\n",
    "    username=tweet.find_element_by_xpath('.//span').text\n",
    "    handle=tweet.find_element_by_xpath('//span[contains(text(),\"@\")]').text\n",
    "    try:\n",
    "        postDate=tweet.find_element_by_xpath('.//time').get_attribute('datetime')\n",
    "    except NoSuchElementException:\n",
    "        return\n",
    "    try:\n",
    "        _comment=tweet.find_element_by_xpath('.//div[2]/div[2]/div[2]').text\n",
    "    except NoSuchElementException:\n",
    "        _comment=\" \"\n",
    "    try:\n",
    "        _responding=tweet.find_element_by_xpath('.//div[2]/div[2]/div[3]').text\n",
    "    except NoSuchElementException:\n",
    "        _responding=\" \"\n",
    "    text=_comment+_responding\n",
    "    try:\n",
    "        reply_cnt=tweet.find_element_by_xpath('.//div[@data-testid=\"reply\"]').text\n",
    "    except NoSuchElementException:\n",
    "        reply_cnt=\" \"\n",
    "    try:\n",
    "        retweet_cnt=tweet.find_element_by_xpath('.//div[@data-testid=\"retweet\"]').text\n",
    "    except NoSuchElementException:\n",
    "        retweet_cnt=\" \"\n",
    "    try:\n",
    "        like_cnt=tweet.find_element_by_xpath('.//div[@data-testid=\"like\"]').text\n",
    "    except NoSuchElementException:\n",
    "        like_cnt=\" \"\n",
    "    tweet=(username,handle,postDate,text,reply_cnt,retweet_cnt,like_cnt)\n",
    "    return tweet\n",
    "\n",
    " "
   ]
  },
  {
   "cell_type": "code",
   "execution_count": 391,
   "id": "e8e353b7-de0a-4c9b-91f9-3b93669226c9",
   "metadata": {},
   "outputs": [
    {
     "data": {
      "text/plain": [
       "('Nick Vintila',\n",
       " '@semanticbeeng',\n",
       " '2021-06-25T16:42:04.000Z',\n",
       " 'Replying to \\n@fanf42\\n @jeremyrsmith\\n and \\n@IndigJonathan#Polynote is very nice in every way!\\n\\nAny plans for an actual roadmap ?\\nYearning for #k8s support like in Zeppelin, for example.',\n",
       " '1',\n",
       " '',\n",
       " '2')"
      ]
     },
     "execution_count": 391,
     "metadata": {},
     "output_type": "execute_result"
    }
   ],
   "source": [
    "get_tweet_data(tweet)"
   ]
  },
  {
   "cell_type": "code",
   "execution_count": 392,
   "id": "0250d72b-6a7d-4b1a-a3a1-8b0628f5f7ff",
   "metadata": {},
   "outputs": [],
   "source": [
    "tweet_data=[]\n",
    "for tweet in tweets:\n",
    "    data=get_tweet_data(tweet)\n",
    "    if data:\n",
    "        tweet_data.append(data)"
   ]
  },
  {
   "cell_type": "code",
   "execution_count": 393,
   "id": "225b766e-8f3a-41bd-9f69-3939fada5eb9",
   "metadata": {},
   "outputs": [
    {
     "data": {
      "text/plain": [
       "('Nick Vintila',\n",
       " '@semanticbeeng',\n",
       " '2021-06-25T16:42:04.000Z',\n",
       " 'Replying to \\n@fanf42\\n @jeremyrsmith\\n and \\n@IndigJonathan#Polynote is very nice in every way!\\n\\nAny plans for an actual roadmap ?\\nYearning for #k8s support like in Zeppelin, for example.',\n",
       " '1',\n",
       " '',\n",
       " '2')"
      ]
     },
     "execution_count": 393,
     "metadata": {},
     "output_type": "execute_result"
    }
   ],
   "source": [
    "tweet_data[0]"
   ]
  },
  {
   "cell_type": "code",
   "execution_count": 394,
   "id": "bf02647a-3170-4bd9-a1f5-3063d8dcd24c",
   "metadata": {},
   "outputs": [
    {
     "name": "stdout",
     "output_type": "stream",
     "text": [
      "2\n"
     ]
    }
   ],
   "source": [
    "l=len(tweet_data)\n",
    "print(l)"
   ]
  },
  {
   "cell_type": "code",
   "execution_count": 395,
   "id": "c7977f79-16ef-4997-9584-e60caf063352",
   "metadata": {},
   "outputs": [],
   "source": [
    "driver.execute_script('window.scrollTo(0,document.body.ScollHeight);')"
   ]
  },
  {
   "cell_type": "markdown",
   "id": "7bf8fa12-45df-442e-b382-ef9577176c06",
   "metadata": {},
   "source": [
    "## putting all together"
   ]
  },
  {
   "cell_type": "code",
   "execution_count": 6,
   "id": "00d507ff-b97d-4c3b-97b6-17f0bfbc80d0",
   "metadata": {},
   "outputs": [
    {
     "name": "stdin",
     "output_type": "stream",
     "text": [
      "username Sherine20200\n",
      "password ········\n",
      "search_item #healthy\n"
     ]
    }
   ],
   "source": [
    "import pandas as pd\n",
    "import re\n",
    "import csv\n",
    "from getpass import getpass\n",
    "from time import sleep\n",
    "from selenium.webdriver.common.keys import Keys\n",
    "from selenium.common.exceptions import NoSuchElementException\n",
    "from selenium import webdriver\n",
    "from selenium.webdriver.common.by import By\n",
    "\n",
    "def get_tweet_data(tweet):\n",
    "    try:\n",
    "        username=tweet.find_element_by_xpath('.//span').text\n",
    "    except NoSuchElementException:\n",
    "        user=\"\"\n",
    "    except StaleElementReferenceException:\n",
    "        return\n",
    "    try:\n",
    "        handle=tweet.find_element_by_xpath('//span[contains(text(),\"@\")]').text\n",
    "    except NoSuchElementException:\n",
    "        handle = \"\"\n",
    "    try:\n",
    "        postDate=tweet.find_element_by_xpath('.//time').get_attribute('datetime')\n",
    "    except NoSuchElementException:\n",
    "        return\n",
    "    try:\n",
    "        _comment=tweet.find_element_by_xpath('.//div[2]/div[2]/div[2]').text\n",
    "    except NoSuchElementException:\n",
    "        _comment=\"\"\n",
    "    try:\n",
    "        _responding=tweet.find_element_by_xpath('.//div[2]/div[2]/div[3]').text\n",
    "    except NoSuchElementException:\n",
    "        _responding=\"\"\n",
    "    text=_comment+_responding\n",
    "    try:\n",
    "        reply_cnt=tweet.find_element_by_xpath('.//div[@data-testid=\"reply\"]').text\n",
    "    except NoSuchElementException:\n",
    "        reply_cnt=\"\"\n",
    "    try:\n",
    "        retweet_cnt=tweet.find_element_by_xpath('.//div[@data-testid=\"retweet\"]').text\n",
    "    except NoSuchElementException:\n",
    "        retweet_cnt=\"\"\n",
    "    try:\n",
    "        like_cnt=tweet.find_element_by_xpath('.//div[@data-testid=\"like\"]').text\n",
    "    except NoSuchElementException:\n",
    "        like_cnt=\"\"\n",
    "    tweet=(username,handle,postDate,text,reply_cnt,retweet_cnt,like_cnt)\n",
    "    return tweet\n",
    "\n",
    "\n",
    "user=input(\"username\")\n",
    "my_pass=getpass(\"password\")\n",
    "search_item=input(\"search_item\")\n",
    "driver =webdriver.Edge(executable_path=r'F:\\MedgeWebDriver\\msedgedriver.exe')\n",
    "\n",
    "driver.get('https://twitter.com/login')\n",
    "##driver.maximize_window()\n",
    "sleep(50)\n",
    "user_name=driver.find_element(by=By.NAME,value=\"text\")\n",
    "user_name.send_keys(user)\n",
    "user_name.send_keys(Keys.RETURN)\n",
    "sleep(50)\n",
    "password = driver.find_element_by_name(\"password\")\n",
    "password.send_keys(my_pass)\n",
    "password.send_keys(Keys.RETURN)\n",
    "sleep(50)\n",
    "search_input = driver.find_element_by_css_selector(\"input[aria-label='Search query']\")\n",
    "search_input.send_keys(search_item)\n",
    "search_input.send_keys(Keys.RETURN)\n",
    "sleep(50)\n",
    "element=driver.find_element_by_link_text(\"Latest\").click()\n",
    "\n"
   ]
  },
  {
   "cell_type": "code",
   "execution_count": 10,
   "id": "3d0165e3-bf01-4e1b-ae50-699785201904",
   "metadata": {},
   "outputs": [],
   "source": [
    "# get all tweets on the page\n",
    "data = []\n",
    "tweet_ids = set()\n",
    "last_position = driver.execute_script(\"return window.pageYOffset;\")\n",
    "scrolling = True\n",
    "\n",
    "while scrolling:\n",
    "    ##sleep(8)\n",
    "    page_cards = driver.find_elements_by_xpath('//article[@data-testid=\"tweet\"]')\n",
    "    for card in page_cards[-15:]:\n",
    "        ##sleep(8)\n",
    "        tweet = get_tweet_data(card)\n",
    "        if tweet:\n",
    "            tweet_id = ''.join(tweet)\n",
    "            if tweet_id not in tweet_ids:\n",
    "                tweet_ids.add(tweet_id)\n",
    "                data.append(tweet)\n",
    "            \n",
    "    scroll_attempt = 0\n",
    "    while True:\n",
    "        # check scroll position\n",
    "        driver.execute_script('window.scrollTo(0, document.body.scrollHeight);')\n",
    "        sleep(2)\n",
    "        curr_position = driver.execute_script(\"return window.pageYOffset;\")\n",
    "        if last_position == curr_position:\n",
    "            scroll_attempt += 1\n",
    "            \n",
    "            # end of scroll region\n",
    "            if scroll_attempt >= 3:\n",
    "                scrolling = False\n",
    "                break\n",
    "            else:\n",
    "                sleep(5) # attempt another scroll\n",
    "        else:\n",
    "            last_position = curr_position\n",
    "            break\n",
    "\n",
    "# close the web driver\n",
    "driver.close()\n"
   ]
  },
  {
   "cell_type": "code",
   "execution_count": 16,
   "id": "c3714806-3795-4ac7-b3bc-467bb1bb5335",
   "metadata": {},
   "outputs": [
    {
     "name": "stdout",
     "output_type": "stream",
     "text": [
      "32\n"
     ]
    },
    {
     "data": {
      "text/plain": [
       "('Areas Iberia',\n",
       " '@Areas_ES',\n",
       " '2024-03-26T17:33:50.000Z',\n",
       " '¡Damos la bienvenida a tres nuevos rincones #healthy en el Aeropuerto Madrid-Barajas! Flax & Kale, La Place y Chia llegan para deleitar a los viajeros con opciones frescas, deliciosas y muy saludables.\\n¿Estas ready para un viaje lleno de sabores? Flax & Kale | Restaurants',\n",
       " '',\n",
       " '1',\n",
       " '1')"
      ]
     },
     "execution_count": 16,
     "metadata": {},
     "output_type": "execute_result"
    }
   ],
   "source": [
    "print(len(data))\n",
    "data[5]"
   ]
  },
  {
   "cell_type": "markdown",
   "id": "e5c6cc44-773d-47ea-b41e-eb0fe825ad41",
   "metadata": {},
   "source": [
    "## Save Tweet in CSV file"
   ]
  },
  {
   "cell_type": "code",
   "execution_count": 17,
   "id": "06422489-d96c-4b88-9b3d-d9e11de58cda",
   "metadata": {},
   "outputs": [],
   "source": [
    "with open('python.csv', 'w', newline='', encoding='utf-8') as f:\n",
    "    header = ['UserName', 'Handle', 'Timestamp', 'Text     ', 'Comments', 'Likes', 'Retweets']\n",
    "    writer = csv.writer(f)\n",
    "    writer.writerow(header)\n",
    "    writer.writerows(data)"
   ]
  },
  {
   "cell_type": "code",
   "execution_count": 18,
   "id": "326c0446-f4bb-4797-9feb-f1df31436d67",
   "metadata": {},
   "outputs": [],
   "source": [
    "df = pd.read_csv(r'F:\\jupyter-notebook\\tweeter\\python.csv')\n"
   ]
  },
  {
   "cell_type": "code",
   "execution_count": 19,
   "id": "151fa572-0fa3-451f-a77e-a53b9c722017",
   "metadata": {},
   "outputs": [
    {
     "data": {
      "text/html": [
       "<div>\n",
       "<style scoped>\n",
       "    .dataframe tbody tr th:only-of-type {\n",
       "        vertical-align: middle;\n",
       "    }\n",
       "\n",
       "    .dataframe tbody tr th {\n",
       "        vertical-align: top;\n",
       "    }\n",
       "\n",
       "    .dataframe thead th {\n",
       "        text-align: right;\n",
       "    }\n",
       "</style>\n",
       "<table border=\"1\" class=\"dataframe\">\n",
       "  <thead>\n",
       "    <tr style=\"text-align: right;\">\n",
       "      <th></th>\n",
       "      <th>UserName</th>\n",
       "      <th>Handle</th>\n",
       "      <th>Timestamp</th>\n",
       "      <th>Text</th>\n",
       "      <th>Comments</th>\n",
       "      <th>Likes</th>\n",
       "      <th>Retweets</th>\n",
       "    </tr>\n",
       "  </thead>\n",
       "  <tbody>\n",
       "    <tr>\n",
       "      <th>0</th>\n",
       "      <td>Jimmy Tangree</td>\n",
       "      <td>@jimmy_tangree</td>\n",
       "      <td>2024-03-26T17:59:58.000Z</td>\n",
       "      <td>Gooooood Night..Sleep well &amp; Have an awesome W...</td>\n",
       "      <td>NaN</td>\n",
       "      <td>NaN</td>\n",
       "      <td>NaN</td>\n",
       "    </tr>\n",
       "    <tr>\n",
       "      <th>1</th>\n",
       "      <td>Direct Dilse</td>\n",
       "      <td>@jimmy_tangree</td>\n",
       "      <td>2024-03-26T17:59:47.000Z</td>\n",
       "      <td>Gooooood Night..Sleep well &amp; Have an awesome W...</td>\n",
       "      <td>NaN</td>\n",
       "      <td>NaN</td>\n",
       "      <td>NaN</td>\n",
       "    </tr>\n",
       "    <tr>\n",
       "      <th>2</th>\n",
       "      <td>Elizabeth</td>\n",
       "      <td>@jimmy_tangree</td>\n",
       "      <td>2024-03-26T17:57:30.000Z</td>\n",
       "      <td>Mekong Inspired Green Papaya Salad Recipe http...</td>\n",
       "      <td>NaN</td>\n",
       "      <td>NaN</td>\n",
       "      <td>1.0</td>\n",
       "    </tr>\n",
       "    <tr>\n",
       "      <th>3</th>\n",
       "      <td>Areas Iberia</td>\n",
       "      <td>@jimmy_tangree</td>\n",
       "      <td>2024-03-26T17:33:50.000Z</td>\n",
       "      <td>¡Damos la bienvenida a tres nuevos rincones #h...</td>\n",
       "      <td>NaN</td>\n",
       "      <td>1.0</td>\n",
       "      <td>1.0</td>\n",
       "    </tr>\n",
       "    <tr>\n",
       "      <th>4</th>\n",
       "      <td>Operation Kindness</td>\n",
       "      <td>@jimmy_tangree</td>\n",
       "      <td>2024-03-26T17:31:01.000Z</td>\n",
       "      <td>\"Feelings are much like waves. We can't stop t...</td>\n",
       "      <td>NaN</td>\n",
       "      <td>NaN</td>\n",
       "      <td>NaN</td>\n",
       "    </tr>\n",
       "    <tr>\n",
       "      <th>5</th>\n",
       "      <td>Areas Iberia</td>\n",
       "      <td>@Areas_ES</td>\n",
       "      <td>2024-03-26T17:33:50.000Z</td>\n",
       "      <td>¡Damos la bienvenida a tres nuevos rincones #h...</td>\n",
       "      <td>NaN</td>\n",
       "      <td>1.0</td>\n",
       "      <td>1.0</td>\n",
       "    </tr>\n",
       "    <tr>\n",
       "      <th>6</th>\n",
       "      <td>Operation Kindness</td>\n",
       "      <td>@Areas_ES</td>\n",
       "      <td>2024-03-26T17:31:01.000Z</td>\n",
       "      <td>\"Feelings are much like waves. We can't stop t...</td>\n",
       "      <td>NaN</td>\n",
       "      <td>NaN</td>\n",
       "      <td>NaN</td>\n",
       "    </tr>\n",
       "    <tr>\n",
       "      <th>7</th>\n",
       "      <td>Fit Kate</td>\n",
       "      <td>@Areas_ES</td>\n",
       "      <td>2024-03-26T17:19:52.000Z</td>\n",
       "      <td>... my dinner today is called \"Keto doesn't ha...</td>\n",
       "      <td>NaN</td>\n",
       "      <td>NaN</td>\n",
       "      <td>NaN</td>\n",
       "    </tr>\n",
       "    <tr>\n",
       "      <th>8</th>\n",
       "      <td>UnBEElievable Health</td>\n",
       "      <td>@Areas_ES</td>\n",
       "      <td>2024-03-26T17:17:52.000Z</td>\n",
       "      <td>Those bees! The amazing health benefits of bee...</td>\n",
       "      <td>NaN</td>\n",
       "      <td>2.0</td>\n",
       "      <td>3.0</td>\n",
       "    </tr>\n",
       "    <tr>\n",
       "      <th>9</th>\n",
       "      <td>Secret of Aging</td>\n",
       "      <td>@Areas_ES</td>\n",
       "      <td>2024-03-26T17:13:22.000Z</td>\n",
       "      <td>Avocado is not only #healthy to eat, but is al...</td>\n",
       "      <td>NaN</td>\n",
       "      <td>NaN</td>\n",
       "      <td>NaN</td>\n",
       "    </tr>\n",
       "    <tr>\n",
       "      <th>10</th>\n",
       "      <td>WBM Sales Partner</td>\n",
       "      <td>@WBMIntlGroup</td>\n",
       "      <td>2024-03-26T17:00:16.000Z</td>\n",
       "      <td>Bio, vegan, köstlich und ökologisch wurde YOGA...</td>\n",
       "      <td>NaN</td>\n",
       "      <td>NaN</td>\n",
       "      <td>NaN</td>\n",
       "    </tr>\n",
       "    <tr>\n",
       "      <th>11</th>\n",
       "      <td>Emily Ramsey</td>\n",
       "      <td>@WBMIntlGroup</td>\n",
       "      <td>2024-03-26T16:53:00.000Z</td>\n",
       "      <td>Efforts to promote #healthy eating in the work...</td>\n",
       "      <td>NaN</td>\n",
       "      <td>NaN</td>\n",
       "      <td>NaN</td>\n",
       "    </tr>\n",
       "    <tr>\n",
       "      <th>12</th>\n",
       "      <td>585MentalHealth</td>\n",
       "      <td>@WBMIntlGroup</td>\n",
       "      <td>2024-03-26T16:51:21.000Z</td>\n",
       "      <td>Have you felt your #feelings today? \\n\\nThere ...</td>\n",
       "      <td>NaN</td>\n",
       "      <td>2.0</td>\n",
       "      <td>1.0</td>\n",
       "    </tr>\n",
       "    <tr>\n",
       "      <th>13</th>\n",
       "      <td>Recipes &amp; Cookbooks</td>\n",
       "      <td>@cookbooksfree2</td>\n",
       "      <td>2024-03-26T16:29:47.000Z</td>\n",
       "      <td>https://amazon.com/dp/B0CNS7MS1Z #Healthy Livi...</td>\n",
       "      <td>NaN</td>\n",
       "      <td>NaN</td>\n",
       "      <td>1.0</td>\n",
       "    </tr>\n",
       "    <tr>\n",
       "      <th>14</th>\n",
       "      <td>Recipes &amp; Cookbooks</td>\n",
       "      <td>@cookbooksfree2</td>\n",
       "      <td>2024-03-26T16:25:19.000Z</td>\n",
       "      <td>https://amazon.com/dp/B0CP2VDRG9 #Healthy #Living</td>\n",
       "      <td>NaN</td>\n",
       "      <td>NaN</td>\n",
       "      <td>1.0</td>\n",
       "    </tr>\n",
       "    <tr>\n",
       "      <th>15</th>\n",
       "      <td>Background Opinion</td>\n",
       "      <td>@cookbooksfree2</td>\n",
       "      <td>2024-03-26T16:24:38.000Z</td>\n",
       "      <td>Detoxification through Liver Cleansing: A Simp...</td>\n",
       "      <td>NaN</td>\n",
       "      <td>NaN</td>\n",
       "      <td>NaN</td>\n",
       "    </tr>\n",
       "    <tr>\n",
       "      <th>16</th>\n",
       "      <td>Recipes &amp; Cookbooks</td>\n",
       "      <td>@cookbooksfree2</td>\n",
       "      <td>2024-03-26T16:23:55.000Z</td>\n",
       "      <td>https://amazon.com/dp/B0CP5DJT64 #Healthy Livi...</td>\n",
       "      <td>NaN</td>\n",
       "      <td>NaN</td>\n",
       "      <td>1.0</td>\n",
       "    </tr>\n",
       "    <tr>\n",
       "      <th>17</th>\n",
       "      <td>SixMD.com</td>\n",
       "      <td>@wagmiglobal_</td>\n",
       "      <td>2024-03-26T15:57:43.000Z</td>\n",
       "      <td>Helps against psoriasis, dermatitis and eczema...</td>\n",
       "      <td>NaN</td>\n",
       "      <td>NaN</td>\n",
       "      <td>2.0</td>\n",
       "    </tr>\n",
       "    <tr>\n",
       "      <th>18</th>\n",
       "      <td>Joseph Hill</td>\n",
       "      <td>@wagmiglobal_</td>\n",
       "      <td>2024-03-26T15:55:45.000Z</td>\n",
       "      <td>\"Happy #NationalSpinachDay!\"\\n\\nPopeye Spinach...</td>\n",
       "      <td>NaN</td>\n",
       "      <td>3.0</td>\n",
       "      <td>22.0</td>\n",
       "    </tr>\n",
       "    <tr>\n",
       "      <th>19</th>\n",
       "      <td>Daniel Casanova</td>\n",
       "      <td>@wagmiglobal_</td>\n",
       "      <td>2024-03-26T15:55:39.000Z</td>\n",
       "      <td>Replying to \\n@eminam1969\\n @Befasterfit\\n and...</td>\n",
       "      <td>NaN</td>\n",
       "      <td>3.0</td>\n",
       "      <td>3.0</td>\n",
       "    </tr>\n",
       "  </tbody>\n",
       "</table>\n",
       "</div>"
      ],
      "text/plain": [
       "                UserName           Handle                 Timestamp  \\\n",
       "0          Jimmy Tangree   @jimmy_tangree  2024-03-26T17:59:58.000Z   \n",
       "1           Direct Dilse   @jimmy_tangree  2024-03-26T17:59:47.000Z   \n",
       "2              Elizabeth   @jimmy_tangree  2024-03-26T17:57:30.000Z   \n",
       "3           Areas Iberia   @jimmy_tangree  2024-03-26T17:33:50.000Z   \n",
       "4     Operation Kindness   @jimmy_tangree  2024-03-26T17:31:01.000Z   \n",
       "5           Areas Iberia        @Areas_ES  2024-03-26T17:33:50.000Z   \n",
       "6     Operation Kindness        @Areas_ES  2024-03-26T17:31:01.000Z   \n",
       "7               Fit Kate        @Areas_ES  2024-03-26T17:19:52.000Z   \n",
       "8   UnBEElievable Health        @Areas_ES  2024-03-26T17:17:52.000Z   \n",
       "9        Secret of Aging        @Areas_ES  2024-03-26T17:13:22.000Z   \n",
       "10     WBM Sales Partner    @WBMIntlGroup  2024-03-26T17:00:16.000Z   \n",
       "11          Emily Ramsey    @WBMIntlGroup  2024-03-26T16:53:00.000Z   \n",
       "12       585MentalHealth    @WBMIntlGroup  2024-03-26T16:51:21.000Z   \n",
       "13   Recipes & Cookbooks  @cookbooksfree2  2024-03-26T16:29:47.000Z   \n",
       "14   Recipes & Cookbooks  @cookbooksfree2  2024-03-26T16:25:19.000Z   \n",
       "15    Background Opinion  @cookbooksfree2  2024-03-26T16:24:38.000Z   \n",
       "16   Recipes & Cookbooks  @cookbooksfree2  2024-03-26T16:23:55.000Z   \n",
       "17             SixMD.com    @wagmiglobal_  2024-03-26T15:57:43.000Z   \n",
       "18           Joseph Hill    @wagmiglobal_  2024-03-26T15:55:45.000Z   \n",
       "19       Daniel Casanova    @wagmiglobal_  2024-03-26T15:55:39.000Z   \n",
       "\n",
       "                                            Text       Comments  Likes  \\\n",
       "0   Gooooood Night..Sleep well & Have an awesome W...       NaN    NaN   \n",
       "1   Gooooood Night..Sleep well & Have an awesome W...       NaN    NaN   \n",
       "2   Mekong Inspired Green Papaya Salad Recipe http...       NaN    NaN   \n",
       "3   ¡Damos la bienvenida a tres nuevos rincones #h...       NaN    1.0   \n",
       "4   \"Feelings are much like waves. We can't stop t...       NaN    NaN   \n",
       "5   ¡Damos la bienvenida a tres nuevos rincones #h...       NaN    1.0   \n",
       "6   \"Feelings are much like waves. We can't stop t...       NaN    NaN   \n",
       "7   ... my dinner today is called \"Keto doesn't ha...       NaN    NaN   \n",
       "8   Those bees! The amazing health benefits of bee...       NaN    2.0   \n",
       "9   Avocado is not only #healthy to eat, but is al...       NaN    NaN   \n",
       "10  Bio, vegan, köstlich und ökologisch wurde YOGA...       NaN    NaN   \n",
       "11  Efforts to promote #healthy eating in the work...       NaN    NaN   \n",
       "12  Have you felt your #feelings today? \\n\\nThere ...       NaN    2.0   \n",
       "13  https://amazon.com/dp/B0CNS7MS1Z #Healthy Livi...       NaN    NaN   \n",
       "14  https://amazon.com/dp/B0CP2VDRG9 #Healthy #Living       NaN    NaN   \n",
       "15  Detoxification through Liver Cleansing: A Simp...       NaN    NaN   \n",
       "16  https://amazon.com/dp/B0CP5DJT64 #Healthy Livi...       NaN    NaN   \n",
       "17  Helps against psoriasis, dermatitis and eczema...       NaN    NaN   \n",
       "18  \"Happy #NationalSpinachDay!\"\\n\\nPopeye Spinach...       NaN    3.0   \n",
       "19  Replying to \\n@eminam1969\\n @Befasterfit\\n and...       NaN    3.0   \n",
       "\n",
       "    Retweets  \n",
       "0        NaN  \n",
       "1        NaN  \n",
       "2        1.0  \n",
       "3        1.0  \n",
       "4        NaN  \n",
       "5        1.0  \n",
       "6        NaN  \n",
       "7        NaN  \n",
       "8        3.0  \n",
       "9        NaN  \n",
       "10       NaN  \n",
       "11       NaN  \n",
       "12       1.0  \n",
       "13       1.0  \n",
       "14       1.0  \n",
       "15       NaN  \n",
       "16       1.0  \n",
       "17       2.0  \n",
       "18      22.0  \n",
       "19       3.0  "
      ]
     },
     "execution_count": 19,
     "metadata": {},
     "output_type": "execute_result"
    }
   ],
   "source": [
    "df.head(20)"
   ]
  },
  {
   "cell_type": "code",
   "execution_count": 20,
   "id": "7162de5d-38a9-4e21-b74d-b2a656194521",
   "metadata": {},
   "outputs": [
    {
     "data": {
      "text/html": [
       "<div>\n",
       "<style scoped>\n",
       "    .dataframe tbody tr th:only-of-type {\n",
       "        vertical-align: middle;\n",
       "    }\n",
       "\n",
       "    .dataframe tbody tr th {\n",
       "        vertical-align: top;\n",
       "    }\n",
       "\n",
       "    .dataframe thead th {\n",
       "        text-align: right;\n",
       "    }\n",
       "</style>\n",
       "<table border=\"1\" class=\"dataframe\">\n",
       "  <thead>\n",
       "    <tr style=\"text-align: right;\">\n",
       "      <th></th>\n",
       "      <th>UserName</th>\n",
       "      <th>Handle</th>\n",
       "      <th>Timestamp</th>\n",
       "      <th>Text</th>\n",
       "      <th>Comments</th>\n",
       "      <th>Likes</th>\n",
       "      <th>Retweets</th>\n",
       "    </tr>\n",
       "  </thead>\n",
       "  <tbody>\n",
       "    <tr>\n",
       "      <th>22</th>\n",
       "      <td>Daniel Casanova</td>\n",
       "      <td>@SixmdC</td>\n",
       "      <td>2024-03-26T15:55:39.000Z</td>\n",
       "      <td>Replying to \\n@eminam1969\\n @Befasterfit\\n and...</td>\n",
       "      <td>NaN</td>\n",
       "      <td>3.0</td>\n",
       "      <td>3.0</td>\n",
       "    </tr>\n",
       "    <tr>\n",
       "      <th>23</th>\n",
       "      <td>SixMD.com</td>\n",
       "      <td>@SixmdC</td>\n",
       "      <td>2024-03-26T15:52:39.000Z</td>\n",
       "      <td>Diep Ha Chau Fito Pharma – Liver detoxificatio...</td>\n",
       "      <td>NaN</td>\n",
       "      <td>NaN</td>\n",
       "      <td>2.0</td>\n",
       "    </tr>\n",
       "    <tr>\n",
       "      <th>24</th>\n",
       "      <td>Prevail Strength and Conditioning</td>\n",
       "      <td>@SixmdC</td>\n",
       "      <td>2024-03-26T15:45:27.000Z</td>\n",
       "      <td>#fitness #gym #workout #fitnessmotivation #fit...</td>\n",
       "      <td>NaN</td>\n",
       "      <td>NaN</td>\n",
       "      <td>2.0</td>\n",
       "    </tr>\n",
       "    <tr>\n",
       "      <th>25</th>\n",
       "      <td>Nutripot</td>\n",
       "      <td>@SixmdC</td>\n",
       "      <td>2024-03-26T15:41:30.000Z</td>\n",
       "      <td>Nutripot’s yummy peanut butter is available fo...</td>\n",
       "      <td>1.0</td>\n",
       "      <td>NaN</td>\n",
       "      <td>NaN</td>\n",
       "    </tr>\n",
       "    <tr>\n",
       "      <th>26</th>\n",
       "      <td>Microbiome Plus+</td>\n",
       "      <td>@karma_shopping</td>\n",
       "      <td>2024-03-26T15:31:11.000Z</td>\n",
       "      <td>Start your day with a smile and a plate full ...</td>\n",
       "      <td>NaN</td>\n",
       "      <td>NaN</td>\n",
       "      <td>NaN</td>\n",
       "    </tr>\n",
       "    <tr>\n",
       "      <th>27</th>\n",
       "      <td>Tom Dowd</td>\n",
       "      <td>@karma_shopping</td>\n",
       "      <td>2024-03-26T15:29:15.000Z</td>\n",
       "      <td>F45 Training Partners With Telehealth Leader D...</td>\n",
       "      <td>NaN</td>\n",
       "      <td>NaN</td>\n",
       "      <td>1.0</td>\n",
       "    </tr>\n",
       "    <tr>\n",
       "      <th>28</th>\n",
       "      <td>Liudmila - B2B and B2C Copywriter, Translator</td>\n",
       "      <td>@karma_shopping</td>\n",
       "      <td>2024-03-26T15:25:17.000Z</td>\n",
       "      <td>Replying to \\n@QuickFindGlobal4/10: By incorpo...</td>\n",
       "      <td>2.0</td>\n",
       "      <td>NaN</td>\n",
       "      <td>NaN</td>\n",
       "    </tr>\n",
       "    <tr>\n",
       "      <th>29</th>\n",
       "      <td>Microbiome Plus+</td>\n",
       "      <td>@Microbiomeplus</td>\n",
       "      <td>2024-03-26T15:31:11.000Z</td>\n",
       "      <td>Start your day with a smile and a plate full ...</td>\n",
       "      <td>NaN</td>\n",
       "      <td>NaN</td>\n",
       "      <td>NaN</td>\n",
       "    </tr>\n",
       "    <tr>\n",
       "      <th>30</th>\n",
       "      <td>Tom Dowd</td>\n",
       "      <td>@Microbiomeplus</td>\n",
       "      <td>2024-03-26T15:29:15.000Z</td>\n",
       "      <td>F45 Training Partners With Telehealth Leader D...</td>\n",
       "      <td>NaN</td>\n",
       "      <td>NaN</td>\n",
       "      <td>1.0</td>\n",
       "    </tr>\n",
       "    <tr>\n",
       "      <th>31</th>\n",
       "      <td>Liudmila - B2B and B2C Copywriter, Translator</td>\n",
       "      <td>@Microbiomeplus</td>\n",
       "      <td>2024-03-26T15:25:17.000Z</td>\n",
       "      <td>Replying to \\n@QuickFindGlobal4/10: By incorpo...</td>\n",
       "      <td>2.0</td>\n",
       "      <td>NaN</td>\n",
       "      <td>NaN</td>\n",
       "    </tr>\n",
       "  </tbody>\n",
       "</table>\n",
       "</div>"
      ],
      "text/plain": [
       "                                         UserName           Handle  \\\n",
       "22                                Daniel Casanova          @SixmdC   \n",
       "23                                      SixMD.com          @SixmdC   \n",
       "24              Prevail Strength and Conditioning          @SixmdC   \n",
       "25                                       Nutripot          @SixmdC   \n",
       "26                               Microbiome Plus+  @karma_shopping   \n",
       "27                                       Tom Dowd  @karma_shopping   \n",
       "28  Liudmila - B2B and B2C Copywriter, Translator  @karma_shopping   \n",
       "29                               Microbiome Plus+  @Microbiomeplus   \n",
       "30                                       Tom Dowd  @Microbiomeplus   \n",
       "31  Liudmila - B2B and B2C Copywriter, Translator  @Microbiomeplus   \n",
       "\n",
       "                   Timestamp  \\\n",
       "22  2024-03-26T15:55:39.000Z   \n",
       "23  2024-03-26T15:52:39.000Z   \n",
       "24  2024-03-26T15:45:27.000Z   \n",
       "25  2024-03-26T15:41:30.000Z   \n",
       "26  2024-03-26T15:31:11.000Z   \n",
       "27  2024-03-26T15:29:15.000Z   \n",
       "28  2024-03-26T15:25:17.000Z   \n",
       "29  2024-03-26T15:31:11.000Z   \n",
       "30  2024-03-26T15:29:15.000Z   \n",
       "31  2024-03-26T15:25:17.000Z   \n",
       "\n",
       "                                            Text       Comments  Likes  \\\n",
       "22  Replying to \\n@eminam1969\\n @Befasterfit\\n and...       NaN    3.0   \n",
       "23  Diep Ha Chau Fito Pharma – Liver detoxificatio...       NaN    NaN   \n",
       "24  #fitness #gym #workout #fitnessmotivation #fit...       NaN    NaN   \n",
       "25  Nutripot’s yummy peanut butter is available fo...       1.0    NaN   \n",
       "26   Start your day with a smile and a plate full ...       NaN    NaN   \n",
       "27  F45 Training Partners With Telehealth Leader D...       NaN    NaN   \n",
       "28  Replying to \\n@QuickFindGlobal4/10: By incorpo...       2.0    NaN   \n",
       "29   Start your day with a smile and a plate full ...       NaN    NaN   \n",
       "30  F45 Training Partners With Telehealth Leader D...       NaN    NaN   \n",
       "31  Replying to \\n@QuickFindGlobal4/10: By incorpo...       2.0    NaN   \n",
       "\n",
       "    Retweets  \n",
       "22       3.0  \n",
       "23       2.0  \n",
       "24       2.0  \n",
       "25       NaN  \n",
       "26       NaN  \n",
       "27       1.0  \n",
       "28       NaN  \n",
       "29       NaN  \n",
       "30       1.0  \n",
       "31       NaN  "
      ]
     },
     "execution_count": 20,
     "metadata": {},
     "output_type": "execute_result"
    }
   ],
   "source": [
    "df.tail(10)"
   ]
  },
  {
   "cell_type": "code",
   "execution_count": null,
   "id": "c1d46446-5a42-47ea-a271-bb3aa0bb8bb8",
   "metadata": {},
   "outputs": [],
   "source": []
  }
 ],
 "metadata": {
  "kernelspec": {
   "display_name": "Python 3 (ipykernel)",
   "language": "python",
   "name": "python3"
  },
  "language_info": {
   "codemirror_mode": {
    "name": "ipython",
    "version": 3
   },
   "file_extension": ".py",
   "mimetype": "text/x-python",
   "name": "python",
   "nbconvert_exporter": "python",
   "pygments_lexer": "ipython3",
   "version": "3.12.2"
  }
 },
 "nbformat": 4,
 "nbformat_minor": 5
}
